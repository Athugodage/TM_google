{
 "cells": [
  {
   "cell_type": "code",
   "execution_count": 1,
   "metadata": {
    "collapsed": true
   },
   "outputs": [],
   "source": [
    "import os\n",
    "import sys\n",
    "import math\n",
    "import numpy\n",
    "import pandas"
   ]
  },
  {
   "cell_type": "markdown",
   "metadata": {},
   "source": [
    "### Generalized matrix operations:"
   ]
  },
  {
   "cell_type": "code",
   "execution_count": 2,
   "metadata": {
    "collapsed": true
   },
   "outputs": [],
   "source": [
    "def __extractNodes(matrix):\n",
    "    nodes = set()\n",
    "    for colKey in matrix:\n",
    "        nodes.add(colKey)\n",
    "    for rowKey in matrix.T:\n",
    "        nodes.add(rowKey)\n",
    "    return nodes"
   ]
  },
  {
   "cell_type": "code",
   "execution_count": 3,
   "metadata": {
    "collapsed": true
   },
   "outputs": [],
   "source": [
    "def __makeSquare(matrix, keys, default=0.0):\n",
    "    matrix = matrix.copy()\n",
    "    \n",
    "    def insertMissingColumns(matrix):\n",
    "        for key in keys:\n",
    "            if not key in matrix:\n",
    "                matrix[key] = pandas.Series(default, index=matrix.index)\n",
    "        return matrix\n",
    "\n",
    "    matrix = insertMissingColumns(matrix) # insert missing columns\n",
    "    matrix = insertMissingColumns(matrix.T).T # insert missing rows\n",
    "\n",
    "    return matrix.fillna(default)"
   ]
  },
  {
   "cell_type": "code",
   "execution_count": 4,
   "metadata": {
    "collapsed": true
   },
   "outputs": [],
   "source": [
    "def __ensureRowsPositive(matrix):\n",
    "    matrix = matrix.T\n",
    "    for colKey in matrix:\n",
    "        if matrix[colKey].sum() == 0.0:\n",
    "            matrix[colKey] = pandas.Series(numpy.ones(len(matrix[colKey])), index=matrix.index)\n",
    "    return matrix.T"
   ]
  },
  {
   "cell_type": "code",
   "execution_count": 5,
   "metadata": {
    "collapsed": true
   },
   "outputs": [],
   "source": [
    "def __normalizeRows(matrix):\n",
    "    return matrix.div(matrix.sum(axis=1), axis=0)"
   ]
  },
  {
   "cell_type": "code",
   "execution_count": 6,
   "metadata": {
    "collapsed": true
   },
   "outputs": [],
   "source": [
    "def __euclideanNorm(series):\n",
    "    return math.sqrt(series.dot(series))"
   ]
  },
  {
   "cell_type": "markdown",
   "metadata": {},
   "source": [
    "### PageRank specific functionality:"
   ]
  },
  {
   "cell_type": "code",
   "execution_count": 8,
   "metadata": {
    "collapsed": true
   },
   "outputs": [],
   "source": [
    "def __startState(nodes):\n",
    "    if len(nodes) == 0: raise ValueError(\"There must be at least one node.\")\n",
    "    startProb = 1.0 / float(len(nodes))\n",
    "    return pandas.Series({node : startProb for node in nodes})"
   ]
  },
  {
   "cell_type": "code",
   "execution_count": 9,
   "metadata": {
    "collapsed": true
   },
   "outputs": [],
   "source": [
    "def __integrateRandomSurfer(nodes, transitionProbs, rsp):\n",
    "    alpha = 1.0 / float(len(nodes)) * rsp\n",
    "    return transitionProbs.copy().multiply(1.0 - rsp) + alpha"
   ]
  },
  {
   "cell_type": "code",
   "execution_count": 10,
   "metadata": {
    "collapsed": true
   },
   "outputs": [],
   "source": [
    "def powerIteration(transitionWeights, rsp=0.15, epsilon=0.00001, maxIterations=1000):\n",
    "    # Clerical work:\n",
    "    transitionWeights = pandas.DataFrame(transitionWeights)\n",
    "    nodes = __extractNodes(transitionWeights)\n",
    "    transitionWeights = __makeSquare(transitionWeights, nodes, default=0.0)\n",
    "    transitionWeights = __ensureRowsPositive(transitionWeights)\n",
    "\n",
    "    # Setup:\n",
    "    state = __startState(nodes)\n",
    "    transitionProbs = __normalizeRows(transitionWeights)\n",
    "    transitionProbs = __integrateRandomSurfer(nodes, transitionProbs, rsp)\n",
    "    \n",
    "    # Power iteration:\n",
    "    for iteration in range(maxIterations):\n",
    "        oldState = state.copy()\n",
    "        state = state.dot(transitionProbs)\n",
    "        delta = state - oldState\n",
    "        if __euclideanNorm(delta) < epsilon: break\n",
    "\n",
    "    return state"
   ]
  }
 ],
 "metadata": {
  "anaconda-cloud": {},
  "kernelspec": {
   "display_name": "Python 3",
   "language": "python",
   "name": "python3"
  },
  "language_info": {
   "codemirror_mode": {
    "name": "ipython",
    "version": 3
   },
   "file_extension": ".py",
   "mimetype": "text/x-python",
   "name": "python",
   "nbconvert_exporter": "python",
   "pygments_lexer": "ipython3",
   "version": "3.8.8"
  }
 },
 "nbformat": 4,
 "nbformat_minor": 1
}
