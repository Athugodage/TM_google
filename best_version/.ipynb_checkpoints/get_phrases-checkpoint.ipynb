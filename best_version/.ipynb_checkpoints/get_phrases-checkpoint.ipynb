{
 "cells": [
  {
   "cell_type": "code",
   "execution_count": null,
   "metadata": {
    "collapsed": true
   },
   "outputs": [],
   "source": [
    "import pymorphy2\n",
    "morph = pymorphy2.MorphAnalyzer()"
   ]
  },
  {
   "cell_type": "code",
   "execution_count": null,
   "metadata": {
    "collapsed": true
   },
   "outputs": [],
   "source": [
    "def find_ngrams(input_list, n):\n",
    "    return zip(*[input_list[i:] for i in range(n)])"
   ]
  },
  {
   "cell_type": "code",
   "execution_count": 5,
   "metadata": {
    "collapsed": true
   },
   "outputs": [],
   "source": [
    "def get_phrases(words):\n",
    "    if len(words) == 1:\n",
    "        return words\n",
    "    bigrams = find_ngrams(words, 2)\n",
    "    phrases = []\n",
    "\n",
    "    for bigram in bigrams:\n",
    "        normalised = None\n",
    "        p = [morph.parse(b.lower())[0] for b in bigram]\n",
    "        # N + N2, N + N5\n",
    "        if {'NOUN'} in p[0].tag:\n",
    "            if {'NOUN', 'gent'} in p[1].tag or {'NOUN', 'ablt'} in p[1].tag:\n",
    "                normalised = p[0].inflect({'nomn'}).word + ' ' + bigram[1]\n",
    "                phrases.append(normalised)\n",
    "            if {'NOUN', 'ablt'} in p[1].tag:\n",
    "                print(p[0].inflect({'nomn'}).word + ' ' + bigram[1])\n",
    "\n",
    "        # Adj + N\n",
    "        elif {'ADJF'} in p[0].tag and {'NOUN'} in p[1].tag:\n",
    "            if p[0].tag.case == p[1].tag.case and p[0].tag.number == p[1].tag.number and p[0].tag.gender == p[\n",
    "                1].tag.gender:\n",
    "                normalised = p[0].inflect({'nomn'}).word + ' ' + p[1].inflect({'nomn'}).word\n",
    "                phrases.append(normalised)\n",
    "        # Participle + N\n",
    "        elif {'PRTF'} in p[0].tag and {'NOUN'} in p[1].tag:\n",
    "            if p[0].tag.case == p[1].tag.case and p[0].tag.number == p[1].tag.number and p[0].tag.gender == p[\n",
    "                1].tag.gender:\n",
    "                normalised = p[0].inflect({'nomn'}).word + ' ' + p[1].inflect({'nomn'}).word\n",
    "        # N1\n",
    "        elif {'NOUN'} in p[0].tag and {'NOUN', 'gent'} not in p[1].tag and 'PREP' not in p[1].tag:\n",
    "            normalised = p[0].normal_form\n",
    "        elif len(p) > 1 and {'NOUN'} in p[1].tag and {'ADJF'} not in p[0].tag:\n",
    "            normalised = p[1].normal_form\n",
    "        # Adv + V\n",
    "        elif {'ADVB'} in p[0].tag and {'VERB'} in p[1].tag:\n",
    "            normalised = p[0].normal_form + ' ' + p[1].normal_form\n",
    "            # Adv + V\n",
    "        elif {'ADJS'} in p[0].tag and {'VERB'} in p[1].tag:\n",
    "            normalised = p[0].normal_form + ' ' + p[1].normal_form\n",
    "        if normalised:\n",
    "            phrases.append(normalised.strip())\n",
    "        # V\n",
    "        if {'VERB'} in p[0].tag:\n",
    "            normalised = p[0].normal_form\n",
    "            phrases.append(normalised.strip())\n",
    "        if {'VERB'} in p[1].tag:\n",
    "            normalised = p[1].normal_form\n",
    "            phrases.append(normalised.strip())\n",
    "\n",
    "    trigrams = find_ngrams(words, 3)\n",
    "    for trigram in trigrams:\n",
    "        p = [morph.parse(t)[0] for t in trigram]\n",
    "        normalised = None\n",
    "        # N + Prep + N\n",
    "        if 'NOUN' in p[0].tag and 'PREP' in p[1].tag and 'NOUN' in p[2].tag:\n",
    "            normalised = p[0].inflect({'nomn'}).word + ' ' + trigram[1] + ' ' + trigram[2]\n",
    "        # Adv + Adj + N\n",
    "        elif 'ADVB' in p[0].tag and 'ADJF' in p[1].tag and 'NOUN' in p[2].tag:\n",
    "            normalised = trigram[0] + ' ' + p[1].inflect({'nomn'}).word + ' ' + p[2].normal_form\n",
    "        # Adv + Participle + N\n",
    "        elif 'ADVB' in p[0].tag and 'PRTF' in p[1].tag and 'NOUN' in p[2].tag:\n",
    "            normalised = trigram[0] + ' ' + p[1].inflect({'nomn'}).word + ' ' + p[2].normal_form\n",
    "        # Adj + Adj + N\n",
    "        elif 'ADJF' in p[0].tag and 'ADJF' in p[1].tag and 'NOUN' in p[2].tag:\n",
    "            if p[0].tag.case == p[2].tag.case == p[2].tag.case and p[0].tag.gender == p[2].tag.gender and p[\n",
    "                0].tag.number == p[2].tag.number:\n",
    "                normalised = p[0].inflect({'nomn'}).word + ' ' + p[1].inflect({'nomn'}).word + ' ' + p[2].normal_form\n",
    "        # N + Conj + N\n",
    "        elif 'NOUN' in p[0].tag and 'CONJ' in p[1].tag and 'NOUN' in p[2].tag:\n",
    "            normalised = p[0].inflect({'nomn'}).word + ' ' + trigram[1] + ' ' + p[2].inflect({'nomn'}).word\n",
    "        # N + gent + N2\n",
    "        elif {'NOUN'} in p[0].tag and {'gent'} in p[1].tag and {'NOUN', 'gent'} in p[2].tag:\n",
    "            normalised = p[0].inflect({'nomn'}).word + ' ' + trigram[1] + ' ' + trigram[2]\n",
    "        if normalised:\n",
    "            phrases.append(normalised.strip())\n",
    "    additional_phrases = []\n",
    "    for idx, p in enumerate(phrases):\n",
    "        if idx + 1 < len(phrases):\n",
    "            next_word = morph.parse(phrases[idx + 1].split()[0])[0].normal_form\n",
    "            current_word = morph.parse(p.split()[-1])[0].normal_form\n",
    "            if current_word == next_word and not set(phrases[idx + 1]).issubset(set(p)):\n",
    "                new_phrase = p + ' ' + ' '.join(phrases[idx + 1].split()[1:])\n",
    "                additional_phrases.append(new_phrase.strip())\n",
    "    if additional_phrases:\n",
    "        phrases.extend(list(set(additional_phrases)))\n",
    "    phrases = list(set([phrase.strip() for phrase in phrases]))\n",
    "    return phrases"
   ]
  },
  {
   "cell_type": "code",
   "execution_count": null,
   "metadata": {
    "collapsed": true
   },
   "outputs": [],
   "source": []
  }
 ],
 "metadata": {
  "anaconda-cloud": {},
  "kernelspec": {
   "display_name": "Python 3",
   "language": "python",
   "name": "python3"
  },
  "language_info": {
   "codemirror_mode": {
    "name": "ipython",
    "version": 3
   },
   "file_extension": ".py",
   "mimetype": "text/x-python",
   "name": "python",
   "nbconvert_exporter": "python",
   "pygments_lexer": "ipython3",
   "version": "3.8.8"
  }
 },
 "nbformat": 4,
 "nbformat_minor": 1
}
